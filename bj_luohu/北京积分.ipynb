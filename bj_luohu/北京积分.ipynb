{
 "cells": [
  {
   "cell_type": "markdown",
   "metadata": {},
   "source": [
    "作者：董汇标MINUS 知乎专栏地址：https://zhuanlan.zhihu.com/p/97217536"
   ]
  },
  {
   "cell_type": "code",
   "execution_count": 1,
   "metadata": {},
   "outputs": [],
   "source": [
    "import numpy as np\n",
    "import pandas as pd\n",
    "import matplotlib.pyplot as plt\n",
    "import seaborn as sns "
   ]
  },
  {
   "cell_type": "code",
   "execution_count": 2,
   "metadata": {},
   "outputs": [
    {
     "data": {
      "text/html": [
       "<div>\n",
       "<style scoped>\n",
       "    .dataframe tbody tr th:only-of-type {\n",
       "        vertical-align: middle;\n",
       "    }\n",
       "\n",
       "    .dataframe tbody tr th {\n",
       "        vertical-align: top;\n",
       "    }\n",
       "\n",
       "    .dataframe thead th {\n",
       "        text-align: right;\n",
       "    }\n",
       "</style>\n",
       "<table border=\"1\" class=\"dataframe\">\n",
       "  <thead>\n",
       "    <tr style=\"text-align: right;\">\n",
       "      <th></th>\n",
       "      <th>name</th>\n",
       "      <th>birthday</th>\n",
       "      <th>company</th>\n",
       "      <th>score</th>\n",
       "    </tr>\n",
       "    <tr>\n",
       "      <th>id</th>\n",
       "      <th></th>\n",
       "      <th></th>\n",
       "      <th></th>\n",
       "      <th></th>\n",
       "    </tr>\n",
       "  </thead>\n",
       "  <tbody>\n",
       "    <tr>\n",
       "      <th>1</th>\n",
       "      <td>杨效丰</td>\n",
       "      <td>1972-12</td>\n",
       "      <td>北京利德华福电气技术有限公司</td>\n",
       "      <td>122.59</td>\n",
       "    </tr>\n",
       "    <tr>\n",
       "      <th>2</th>\n",
       "      <td>纪丰伟</td>\n",
       "      <td>1974-12</td>\n",
       "      <td>北京航天数据股份有限公司</td>\n",
       "      <td>121.25</td>\n",
       "    </tr>\n",
       "    <tr>\n",
       "      <th>3</th>\n",
       "      <td>王永</td>\n",
       "      <td>1974-05</td>\n",
       "      <td>品牌联盟(北京)咨询股份公司</td>\n",
       "      <td>118.96</td>\n",
       "    </tr>\n",
       "    <tr>\n",
       "      <th>4</th>\n",
       "      <td>杨静</td>\n",
       "      <td>1975-07</td>\n",
       "      <td>中科专利商标代理有限责任公司</td>\n",
       "      <td>118.21</td>\n",
       "    </tr>\n",
       "    <tr>\n",
       "      <th>5</th>\n",
       "      <td>张凯江</td>\n",
       "      <td>1974-11</td>\n",
       "      <td>北京阿里巴巴云计算技术有限公司</td>\n",
       "      <td>117.79</td>\n",
       "    </tr>\n",
       "  </tbody>\n",
       "</table>\n",
       "</div>"
      ],
      "text/plain": [
       "   name birthday          company   score\n",
       "id                                       \n",
       "1   杨效丰  1972-12   北京利德华福电气技术有限公司  122.59\n",
       "2   纪丰伟  1974-12     北京航天数据股份有限公司  121.25\n",
       "3    王永  1974-05   品牌联盟(北京)咨询股份公司  118.96\n",
       "4    杨静  1975-07   中科专利商标代理有限责任公司  118.21\n",
       "5   张凯江  1974-11  北京阿里巴巴云计算技术有限公司  117.79"
      ]
     },
     "execution_count": 2,
     "metadata": {},
     "output_type": "execute_result"
    }
   ],
   "source": [
    "luohu_data = pd.read_csv('./bj_luohu.csv', index_col = 'id')\n",
    "luohu_data.head(5)"
   ]
  },
  {
   "cell_type": "code",
   "execution_count": 3,
   "metadata": {
    "scrolled": false
   },
   "outputs": [
    {
     "data": {
      "text/html": [
       "<div>\n",
       "<style scoped>\n",
       "    .dataframe tbody tr th:only-of-type {\n",
       "        vertical-align: middle;\n",
       "    }\n",
       "\n",
       "    .dataframe tbody tr th {\n",
       "        vertical-align: top;\n",
       "    }\n",
       "\n",
       "    .dataframe thead th {\n",
       "        text-align: right;\n",
       "    }\n",
       "</style>\n",
       "<table border=\"1\" class=\"dataframe\">\n",
       "  <thead>\n",
       "    <tr style=\"text-align: right;\">\n",
       "      <th></th>\n",
       "      <th>公司名</th>\n",
       "      <th>人数</th>\n",
       "    </tr>\n",
       "  </thead>\n",
       "  <tbody>\n",
       "    <tr>\n",
       "      <th>0</th>\n",
       "      <td>ABB（中国）有限公司</td>\n",
       "      <td>8</td>\n",
       "    </tr>\n",
       "    <tr>\n",
       "      <th>1</th>\n",
       "      <td>BONNIER图书文化（北京）有限公司</td>\n",
       "      <td>1</td>\n",
       "    </tr>\n",
       "    <tr>\n",
       "      <th>2</th>\n",
       "      <td>IGT科技开发（北京）有限公司</td>\n",
       "      <td>1</td>\n",
       "    </tr>\n",
       "    <tr>\n",
       "      <th>3</th>\n",
       "      <td>POLYCOM通讯技术（北京）有限公司</td>\n",
       "      <td>2</td>\n",
       "    </tr>\n",
       "    <tr>\n",
       "      <th>4</th>\n",
       "      <td>VIDIA技术服务（北京）有限公司</td>\n",
       "      <td>1</td>\n",
       "    </tr>\n",
       "    <tr>\n",
       "      <th>5</th>\n",
       "      <td>《中国企业报》股份有限公司</td>\n",
       "      <td>2</td>\n",
       "    </tr>\n",
       "    <tr>\n",
       "      <th>6</th>\n",
       "      <td>《中国当代医药》杂志社有限公司</td>\n",
       "      <td>1</td>\n",
       "    </tr>\n",
       "    <tr>\n",
       "      <th>7</th>\n",
       "      <td>《中国汽车报》社有限公司</td>\n",
       "      <td>1</td>\n",
       "    </tr>\n",
       "    <tr>\n",
       "      <th>8</th>\n",
       "      <td>《中国烟草》杂志社有限公司</td>\n",
       "      <td>1</td>\n",
       "    </tr>\n",
       "    <tr>\n",
       "      <th>9</th>\n",
       "      <td>《中国经济周刊》杂志社</td>\n",
       "      <td>1</td>\n",
       "    </tr>\n",
       "    <tr>\n",
       "      <th>10</th>\n",
       "      <td>《中国质量万里行》杂志社</td>\n",
       "      <td>1</td>\n",
       "    </tr>\n",
       "    <tr>\n",
       "      <th>11</th>\n",
       "      <td>《中国邮政报》社</td>\n",
       "      <td>1</td>\n",
       "    </tr>\n",
       "    <tr>\n",
       "      <th>12</th>\n",
       "      <td>《中国饲料》杂志社</td>\n",
       "      <td>1</td>\n",
       "    </tr>\n",
       "    <tr>\n",
       "      <th>13</th>\n",
       "      <td>《信息早报》社</td>\n",
       "      <td>1</td>\n",
       "    </tr>\n",
       "    <tr>\n",
       "      <th>14</th>\n",
       "      <td>《环境与生活》杂志社有限公司</td>\n",
       "      <td>1</td>\n",
       "    </tr>\n",
       "    <tr>\n",
       "      <th>15</th>\n",
       "      <td>《环球时报》社</td>\n",
       "      <td>5</td>\n",
       "    </tr>\n",
       "    <tr>\n",
       "      <th>16</th>\n",
       "      <td>《证券日报》社</td>\n",
       "      <td>1</td>\n",
       "    </tr>\n",
       "    <tr>\n",
       "      <th>17</th>\n",
       "      <td>一汽丰田汽车销售有限公司</td>\n",
       "      <td>12</td>\n",
       "    </tr>\n",
       "    <tr>\n",
       "      <th>18</th>\n",
       "      <td>万国数据服务有限公司北京分公司</td>\n",
       "      <td>1</td>\n",
       "    </tr>\n",
       "    <tr>\n",
       "      <th>19</th>\n",
       "      <td>万图（北京）科技有限公司</td>\n",
       "      <td>1</td>\n",
       "    </tr>\n",
       "  </tbody>\n",
       "</table>\n",
       "</div>"
      ],
      "text/plain": [
       "                    公司名  人数\n",
       "0           ABB（中国）有限公司   8\n",
       "1   BONNIER图书文化（北京）有限公司   1\n",
       "2       IGT科技开发（北京）有限公司   1\n",
       "3   POLYCOM通讯技术（北京）有限公司   2\n",
       "4     VIDIA技术服务（北京）有限公司   1\n",
       "5         《中国企业报》股份有限公司   2\n",
       "6       《中国当代医药》杂志社有限公司   1\n",
       "7          《中国汽车报》社有限公司   1\n",
       "8         《中国烟草》杂志社有限公司   1\n",
       "9           《中国经济周刊》杂志社   1\n",
       "10         《中国质量万里行》杂志社   1\n",
       "11             《中国邮政报》社   1\n",
       "12            《中国饲料》杂志社   1\n",
       "13              《信息早报》社   1\n",
       "14       《环境与生活》杂志社有限公司   1\n",
       "15              《环球时报》社   5\n",
       "16              《证券日报》社   1\n",
       "17         一汽丰田汽车销售有限公司  12\n",
       "18      万国数据服务有限公司北京分公司   1\n",
       "19         万图（北京）科技有限公司   1"
      ]
     },
     "execution_count": 3,
     "metadata": {},
     "output_type": "execute_result"
    }
   ],
   "source": [
    "company_data = luohu_data.groupby('company', as_index=False).count()[['company', 'name']]\n",
    "company_data.rename(columns={'name':'人数'}, inplace=True)      # 替换 1\n",
    "company_data.rename(columns={'company':'公司名'},inplace=True)  # 替换 2\n",
    "company_data.head(20)"
   ]
  },
  {
   "cell_type": "code",
   "execution_count": 4,
   "metadata": {},
   "outputs": [
    {
     "data": {
      "text/html": [
       "<div>\n",
       "<style scoped>\n",
       "    .dataframe tbody tr th:only-of-type {\n",
       "        vertical-align: middle;\n",
       "    }\n",
       "\n",
       "    .dataframe tbody tr th {\n",
       "        vertical-align: top;\n",
       "    }\n",
       "\n",
       "    .dataframe thead th {\n",
       "        text-align: right;\n",
       "    }\n",
       "</style>\n",
       "<table border=\"1\" class=\"dataframe\">\n",
       "  <thead>\n",
       "    <tr style=\"text-align: right;\">\n",
       "      <th></th>\n",
       "      <th>公司名</th>\n",
       "      <th>人数</th>\n",
       "    </tr>\n",
       "  </thead>\n",
       "  <tbody>\n",
       "    <tr>\n",
       "      <th>1081</th>\n",
       "      <td>北京华为数字技术有限公司</td>\n",
       "      <td>137</td>\n",
       "    </tr>\n",
       "    <tr>\n",
       "      <th>312</th>\n",
       "      <td>中央电视台</td>\n",
       "      <td>73</td>\n",
       "    </tr>\n",
       "    <tr>\n",
       "      <th>2457</th>\n",
       "      <td>北京首钢建设集团有限公司</td>\n",
       "      <td>57</td>\n",
       "    </tr>\n",
       "    <tr>\n",
       "      <th>3082</th>\n",
       "      <td>百度在线网络技术（北京）有限公司</td>\n",
       "      <td>55</td>\n",
       "    </tr>\n",
       "    <tr>\n",
       "      <th>3194</th>\n",
       "      <td>联想（北京）有限公司</td>\n",
       "      <td>48</td>\n",
       "    </tr>\n",
       "    <tr>\n",
       "      <th>214</th>\n",
       "      <td>中国民生银行股份有限公司</td>\n",
       "      <td>40</td>\n",
       "    </tr>\n",
       "    <tr>\n",
       "      <th>2648</th>\n",
       "      <td>国际商业机器（中国）投资有限公司</td>\n",
       "      <td>39</td>\n",
       "    </tr>\n",
       "    <tr>\n",
       "      <th>1334</th>\n",
       "      <td>北京外企人力资源服务有限公司</td>\n",
       "      <td>39</td>\n",
       "    </tr>\n",
       "    <tr>\n",
       "      <th>174</th>\n",
       "      <td>中国国际技术智力合作有限公司</td>\n",
       "      <td>29</td>\n",
       "    </tr>\n",
       "    <tr>\n",
       "      <th>2514</th>\n",
       "      <td>华为技术有限公司北京研究所</td>\n",
       "      <td>27</td>\n",
       "    </tr>\n",
       "    <tr>\n",
       "      <th>3049</th>\n",
       "      <td>爱立信（中国）通信有限公司</td>\n",
       "      <td>26</td>\n",
       "    </tr>\n",
       "    <tr>\n",
       "      <th>3201</th>\n",
       "      <td>腾讯科技（北京）有限公司</td>\n",
       "      <td>24</td>\n",
       "    </tr>\n",
       "    <tr>\n",
       "      <th>2405</th>\n",
       "      <td>北京阿里巴巴云计算技术有限公司</td>\n",
       "      <td>23</td>\n",
       "    </tr>\n",
       "    <tr>\n",
       "      <th>240</th>\n",
       "      <td>中国石油天然气股份有限公司管道北京输油气分公司</td>\n",
       "      <td>20</td>\n",
       "    </tr>\n",
       "    <tr>\n",
       "      <th>3070</th>\n",
       "      <td>用友软件股份有限公司</td>\n",
       "      <td>20</td>\n",
       "    </tr>\n",
       "  </tbody>\n",
       "</table>\n",
       "</div>"
      ],
      "text/plain": [
       "                          公司名   人数\n",
       "1081             北京华为数字技术有限公司  137\n",
       "312                     中央电视台   73\n",
       "2457             北京首钢建设集团有限公司   57\n",
       "3082         百度在线网络技术（北京）有限公司   55\n",
       "3194               联想（北京）有限公司   48\n",
       "214              中国民生银行股份有限公司   40\n",
       "2648         国际商业机器（中国）投资有限公司   39\n",
       "1334           北京外企人力资源服务有限公司   39\n",
       "174            中国国际技术智力合作有限公司   29\n",
       "2514            华为技术有限公司北京研究所   27\n",
       "3049            爱立信（中国）通信有限公司   26\n",
       "3201             腾讯科技（北京）有限公司   24\n",
       "2405          北京阿里巴巴云计算技术有限公司   23\n",
       "240   中国石油天然气股份有限公司管道北京输油气分公司   20\n",
       "3070               用友软件股份有限公司   20"
      ]
     },
     "execution_count": 4,
     "metadata": {},
     "output_type": "execute_result"
    }
   ],
   "source": [
    "company_sorted_data = company_data.sort_values('人数', ascending=False)\n",
    "company_sorted_data.head(15)   # 前15"
   ]
  },
  {
   "cell_type": "code",
   "execution_count": 5,
   "metadata": {},
   "outputs": [
    {
     "data": {
      "text/plain": [
       "score\n",
       "(90, 95]      3344\n",
       "(95, 100]     1757\n",
       "(100, 105]     653\n",
       "(105, 110]     218\n",
       "(110, 115]      32\n",
       "(115, 120]      13\n",
       "(120, 125]       2\n",
       "Name: score, dtype: int64"
      ]
     },
     "execution_count": 5,
     "metadata": {},
     "output_type": "execute_result"
    }
   ],
   "source": [
    "cut_bins = np.arange(90, 130, 5)   #分段设置\n",
    "bins = pd.cut(luohu_data['score'], cut_bins)  # 将落户数据，按照cutbins来切一下\n",
    "bin_counts = luohu_data['score'].groupby(bins).count()\n",
    "bin_counts.head(10)"
   ]
  },
  {
   "cell_type": "code",
   "execution_count": 6,
   "metadata": {},
   "outputs": [
    {
     "name": "stderr",
     "output_type": "stream",
     "text": [
      "C:\\ProgramData\\Anaconda3\\lib\\site-packages\\matplotlib\\font_manager.py:1241: UserWarning: findfont: Font family ['Arial Unicode MS'] not found. Falling back to DejaVu Sans.\n",
      "  (prop.get_family(), self.defaultFamily[fontext]))\n"
     ]
    },
    {
     "data": {
      "image/png": "[encoded data removed]",
      "text/plain": [
       "<Figure size 1080x576 with 1 Axes>"
      ]
     },
     "metadata": {
      "needs_background": "light"
     },
     "output_type": "display_data"
    }
   ],
   "source": [
    "plt.figure(figsize=(15,8))\n",
    "plt.rcParams['font.family']='Arial Unicode MS'\n",
    "plt.rcParams['axes.unicode_minus']=False\n",
    "plt.rcParams['font.size']=12\n",
    "\n",
    "x_name=['90-95','95-100','100-105','105-110','110-115','115-120','120-125']\n",
    "sns.barplot(x_name,bin_counts)\n",
    "plt.ylabel('人数')\n",
    "plt.xlabel('分数区间')\n",
    "\n",
    "for x, y in zip(range(7), bin_counts):\n",
    "    plt.text(x, y+20 , y, ha='center', va='bottom')\n",
    "\n",
    "plt.show()"
   ]
  },
  {
   "cell_type": "code",
   "execution_count": 7,
   "metadata": {},
   "outputs": [
    {
     "data": {
      "text/html": [
       "<div>\n",
       "<style scoped>\n",
       "    .dataframe tbody tr th:only-of-type {\n",
       "        vertical-align: middle;\n",
       "    }\n",
       "\n",
       "    .dataframe tbody tr th {\n",
       "        vertical-align: top;\n",
       "    }\n",
       "\n",
       "    .dataframe thead th {\n",
       "        text-align: right;\n",
       "    }\n",
       "</style>\n",
       "<table border=\"1\" class=\"dataframe\">\n",
       "  <thead>\n",
       "    <tr style=\"text-align: right;\">\n",
       "      <th></th>\n",
       "      <th>score</th>\n",
       "      <th>age</th>\n",
       "    </tr>\n",
       "  </thead>\n",
       "  <tbody>\n",
       "    <tr>\n",
       "      <th>count</th>\n",
       "      <td>6019.000000</td>\n",
       "      <td>6019.000000</td>\n",
       "    </tr>\n",
       "    <tr>\n",
       "      <th>mean</th>\n",
       "      <td>95.654552</td>\n",
       "      <td>41.960493</td>\n",
       "    </tr>\n",
       "    <tr>\n",
       "      <th>std</th>\n",
       "      <td>4.354445</td>\n",
       "      <td>2.814382</td>\n",
       "    </tr>\n",
       "    <tr>\n",
       "      <th>min</th>\n",
       "      <td>90.750000</td>\n",
       "      <td>32.852055</td>\n",
       "    </tr>\n",
       "    <tr>\n",
       "      <th>25%</th>\n",
       "      <td>92.330000</td>\n",
       "      <td>40.027397</td>\n",
       "    </tr>\n",
       "    <tr>\n",
       "      <th>50%</th>\n",
       "      <td>94.460000</td>\n",
       "      <td>41.942466</td>\n",
       "    </tr>\n",
       "    <tr>\n",
       "      <th>75%</th>\n",
       "      <td>97.750000</td>\n",
       "      <td>43.945205</td>\n",
       "    </tr>\n",
       "    <tr>\n",
       "      <th>max</th>\n",
       "      <td>122.590000</td>\n",
       "      <td>60.041096</td>\n",
       "    </tr>\n",
       "  </tbody>\n",
       "</table>\n",
       "</div>"
      ],
      "text/plain": [
       "             score          age\n",
       "count  6019.000000  6019.000000\n",
       "mean     95.654552    41.960493\n",
       "std       4.354445     2.814382\n",
       "min      90.750000    32.852055\n",
       "25%      92.330000    40.027397\n",
       "50%      94.460000    41.942466\n",
       "75%      97.750000    43.945205\n",
       "max     122.590000    60.041096"
      ]
     },
     "execution_count": 7,
     "metadata": {},
     "output_type": "execute_result"
    }
   ],
   "source": [
    "luohu_data['age'] = (pd.to_datetime('2018-07') - pd.to_datetime(luohu_data['birthday'])) / pd.Timedelta('365 days')\n",
    "luohu_data.describe()\n",
    "#luohu_data['score'].mean() >95"
   ]
  },
  {
   "cell_type": "code",
   "execution_count": 8,
   "metadata": {},
   "outputs": [
    {
     "name": "stdout",
     "output_type": "stream",
     "text": [
      "均值 41.960493141581246\n",
      "标准差 2.814381679708802\n",
      "下限 33.51734810245484\n",
      "上限 50.40363818070765\n"
     ]
    }
   ],
   "source": [
    "mean=luohu_data['age'].mean()\n",
    "std =luohu_data['age'].std()\n",
    "\n",
    "# 得到上下限\n",
    "lower , upper =mean -3*std , mean+3*std\n",
    "\n",
    "print('均值',mean) \n",
    "print('标准差',std) \n",
    "print('下限',lower) \n",
    "print('上限',upper)"
   ]
  },
  {
   "cell_type": "code",
   "execution_count": 9,
   "metadata": {},
   "outputs": [
    {
     "name": "stderr",
     "output_type": "stream",
     "text": [
      "C:\\ProgramData\\Anaconda3\\lib\\site-packages\\scipy\\stats\\stats.py:1713: FutureWarning: Using a non-tuple sequence for multidimensional indexing is deprecated; use `arr[tuple(seq)]` instead of `arr[seq]`. In the future this will be interpreted as an array index, `arr[np.array(seq)]`, which will result either in an error or a different result.\n",
      "  return np.add.reduce(sorted[indexer] * weights, axis=axis) / sumval\n"
     ]
    },
    {
     "data": {
      "text/plain": [
       "<matplotlib.axes._subplots.AxesSubplot at 0x12647366fd0>"
      ]
     },
     "execution_count": 9,
     "metadata": {},
     "output_type": "execute_result"
    },
    {
     "data": {
      "image/png": "[encoded data removed]",
      "text/plain": [
       "<Figure size 432x288 with 1 Axes>"
      ]
     },
     "metadata": {
      "needs_background": "light"
     },
     "output_type": "display_data"
    }
   ],
   "source": [
    "#fig.set_size_inches(15,5)   # 设置画布大小\n",
    "sns.distplot(luohu_data['age'])  "
   ]
  },
  {
   "cell_type": "code",
   "execution_count": null,
   "metadata": {},
   "outputs": [],
   "source": []
  },
  {
   "cell_type": "markdown",
   "metadata": {},
   "source": [
    "本文微信首发于公众号【凹凸玩数据】欢迎关注查看更多更好玩的文章！"
   ]
  },
  {
   "cell_type": "code",
   "execution_count": 10,
   "metadata": {},
   "outputs": [
    {
     "data": {
      "text/html": [
       "<img src=\"https://dwz.cn/UqFdLPQQ\"/>"
      ],
      "text/plain": [
       "<IPython.core.display.Image object>"
      ]
     },
     "execution_count": 10,
     "metadata": {},
     "output_type": "execute_result"
    }
   ],
   "source": [
    "from IPython.display import Image\n",
    "from IPython.core.display import HTML \n",
    "Image(url= \"https://dwz.cn/UqFdLPQQ\")"
   ]
  }
 ],
 "metadata": {
  "kernelspec": {
   "display_name": "Python 3",
   "language": "python",
   "name": "python3"
  },
  "language_info": {
   "codemirror_mode": {
    "name": "ipython",
    "version": 3
   },
   "file_extension": ".py",
   "mimetype": "text/x-python",
   "name": "python",
   "nbconvert_exporter": "python",
   "pygments_lexer": "ipython3",
   "version": "3.7.1"
  }
 },
 "nbformat": 4,
 "nbformat_minor": 2
}
